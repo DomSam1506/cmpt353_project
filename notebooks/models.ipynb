{
 "cells": [
  {
   "cell_type": "markdown",
   "id": "9ccba41b",
   "metadata": {},
   "source": [
    "# Predictive Modeling of Game Ratings\n",
    "\n",
    "In this notebook, we build machine learning models to understand what features influence how well a game is loved by users.  \n",
    "We use both **regression** and **classification** approaches based on cleaned features.\n",
    "\n",
    "- Regression: Predicting exact user rating  \n",
    "- Classification: Predicting whether a game is \"loved\" (4.0+ rating)\n"
   ]
  },
  {
   "cell_type": "code",
   "execution_count": 10,
   "id": "47c0093a",
   "metadata": {},
   "outputs": [],
   "source": [
    "import pandas as pd\n",
    "import numpy as np\n",
    "from sklearn.linear_model import LinearRegression\n",
    "from sklearn.pipeline import make_pipeline\n",
    "from sklearn.model_selection import train_test_split\n",
    "from sklearn.ensemble import RandomForestRegressor, RandomForestClassifier\n",
    "from sklearn.compose import ColumnTransformer\n",
    "from sklearn.preprocessing import OneHotEncoder, StandardScaler\n",
    "from sklearn.metrics import classification_report, confusion_matrix, ConfusionMatrixDisplay\n",
    "\n",
    "import sys\n",
    "sys.path.append(\"..\")\n",
    "\n",
    "games = pd.read_csv(\"../data/games_data_cleaned.csv\")\n",
    "games['esrb_rating'] = games['esrb_rating'].fillna('Unknown')"
   ]
  },
  {
   "cell_type": "code",
   "execution_count": 11,
   "id": "8564fd48",
   "metadata": {},
   "outputs": [],
   "source": [
    "# Should I use only features available before release\n",
    "genre_cols = [col for col in games.columns if col.startswith('is_')]\n",
    "\n",
    "num_feat = ['platform_count', 'store_count', 'genre_count']\n",
    "cat_feat = ['esrb_rating', 'platform_type', 'release_month', 'release_quarter']\n",
    "\n",
    "all_feat = genre_cols + num_feat + cat_feat\n",
    "target = 'avg_user_rating'\n",
    "\n",
    "X = games[all_feat]\n",
    "y = games[target]\n",
    "\n",
    "X_train, X_valid, y_train, y_valid = train_test_split(X,y)"
   ]
  },
  {
   "cell_type": "markdown",
   "id": "35e7f2e5",
   "metadata": {},
   "source": [
    "I first use a **linear regression model** to predict the average user rating using available features."
   ]
  },
  {
   "cell_type": "code",
   "execution_count": 12,
   "id": "526d4807",
   "metadata": {},
   "outputs": [
    {
     "name": "stdout",
     "output_type": "stream",
     "text": [
      "Training Score:  0.267716606647614\n",
      "Validation Score:  0.27935436395991786\n"
     ]
    }
   ],
   "source": [
    "# Build pipeline\n",
    "lin_mod = make_pipeline(\n",
    "    ColumnTransformer([\n",
    "        ('num', StandardScaler(), num_feat),\n",
    "        ('cat', OneHotEncoder(),cat_feat)\n",
    "    ], remainder='passthrough'),\n",
    "    (LinearRegression(fit_intercept= False))\n",
    ")\n",
    "\n",
    "lin_mod.fit(X_train, y_train)\n",
    "print(\"Training Score: \",lin_mod.score(X_train, y_train))\n",
    "print(\"Validation Score: \",lin_mod.score(X_valid, y_valid))\n"
   ]
  },
  {
   "cell_type": "markdown",
   "id": "026901dc",
   "metadata": {},
   "source": [
    "Now we use a **Random Forest Regressor** to capture nonlinear relationships \n"
   ]
  },
  {
   "cell_type": "code",
   "execution_count": 13,
   "id": "6bb47a74",
   "metadata": {},
   "outputs": [
    {
     "name": "stdout",
     "output_type": "stream",
     "text": [
      "Training Score:  0.4218869099806134\n",
      "Validation Score:  0.306729152325836\n"
     ]
    }
   ],
   "source": [
    "rf_mod =make_pipeline(\n",
    "    ColumnTransformer([\n",
    "        ('num', StandardScaler(), num_feat),\n",
    "        ('cat', OneHotEncoder(), cat_feat)\n",
    "    ], remainder='passthrough'),\n",
    "    RandomForestRegressor(n_estimators=150, max_depth= 8)\n",
    ")\n",
    "\n",
    "rf_mod.fit(X_train, y_train)\n",
    "print(\"Training Score: \",rf_mod.score(X_train, y_train))\n",
    "print(\"Validation Score: \",rf_mod.score(X_valid, y_valid))"
   ]
  },
  {
   "cell_type": "markdown",
   "id": "33a24ea3",
   "metadata": {},
   "source": [
    "I now frame this as a classification task:\n",
    "- Label games with rating ≥ 4.0 as **Loved**\n",
    "- Goal: Predict whether a game will be loved"
   ]
  },
  {
   "cell_type": "code",
   "execution_count": 14,
   "id": "6abc43e0",
   "metadata": {},
   "outputs": [
    {
     "name": "stdout",
     "output_type": "stream",
     "text": [
      "Training Score:  0.8341815793794123\n",
      "Validation Score:  0.8350566223535204\n",
      "              precision    recall  f1-score   support\n",
      "\n",
      "       False       0.83      1.00      0.91      1694\n",
      "        True       1.00      0.01      0.01       337\n",
      "\n",
      "    accuracy                           0.84      2031\n",
      "   macro avg       0.92      0.50      0.46      2031\n",
      "weighted avg       0.86      0.84      0.76      2031\n",
      "\n"
     ]
    }
   ],
   "source": [
    "games['is_loved'] = (games['avg_user_rating'] >= 4.0)\n",
    "y2 = games['is_loved']\n",
    "\n",
    "X_train, X_valid, y2_train, y2_valid = train_test_split(X,y2)\n",
    "\n",
    "rf_clas = make_pipeline(\n",
    "    ColumnTransformer([\n",
    "        ('num', StandardScaler(), num_feat),\n",
    "        ('cat', OneHotEncoder(),cat_feat)\n",
    "    ], remainder='passthrough'),\n",
    "    (RandomForestClassifier(n_estimators=70, max_depth =5))\n",
    ")\n",
    "\n",
    "rf_clas.fit(X_train, y2_train)\n",
    "\n",
    "print(\"Training Score: \", rf_clas.score(X_train, y2_train))\n",
    "print(\"Validation Score: \",rf_clas.score(X_valid, y2_valid))\n",
    "\n",
    "print(classification_report(y2_valid, rf_clas.predict(X_valid)))\n"
   ]
  },
  {
   "cell_type": "markdown",
   "id": "6e4a72fd",
   "metadata": {},
   "source": [
    "I balance the dataset by undersampling majority class( not loved)"
   ]
  },
  {
   "cell_type": "code",
   "execution_count": 15,
   "id": "589a92a5",
   "metadata": {},
   "outputs": [
    {
     "data": {
      "text/plain": [
       "is_loved\n",
       "False    6768\n",
       "True     1354\n",
       "Name: count, dtype: int64"
      ]
     },
     "execution_count": 15,
     "metadata": {},
     "output_type": "execute_result"
    }
   ],
   "source": [
    "games['is_loved'].value_counts()"
   ]
  },
  {
   "cell_type": "code",
   "execution_count": 16,
   "id": "ffd8023e",
   "metadata": {},
   "outputs": [
    {
     "name": "stdout",
     "output_type": "stream",
     "text": [
      "Training Score:  0.7031019202363368\n",
      "Validation Score:  0.691285081240768\n",
      "              precision    recall  f1-score   support\n",
      "\n",
      "       False       0.66      0.73      0.69       325\n",
      "        True       0.73      0.65      0.69       352\n",
      "\n",
      "    accuracy                           0.69       677\n",
      "   macro avg       0.69      0.69      0.69       677\n",
      "weighted avg       0.69      0.69      0.69       677\n",
      "\n"
     ]
    }
   ],
   "source": [
    "# Balance the data\n",
    "loved = games[games['is_loved']]\n",
    "not_loved = games[~games['is_loved']].sample(loved.shape[0])\n",
    "balanced = pd.concat([loved, not_loved])\n",
    "\n",
    "X = balanced[all_feat]\n",
    "y3 = balanced['is_loved']\n",
    "\n",
    "X_train, X_valid, y3_train, y3_valid = train_test_split(X,y3)\n",
    "\n",
    "rf_clas.fit(X_train, y3_train)\n",
    "\n",
    "print(\"Training Score: \",rf_clas.score(X_train, y3_train))\n",
    "print(\"Validation Score: \",rf_clas.score(X_valid, y3_valid))\n",
    "\n",
    "print(classification_report(y3_valid, rf_clas.predict(X_valid)))"
   ]
  },
  {
   "cell_type": "code",
   "execution_count": 17,
   "id": "843254d9",
   "metadata": {},
   "outputs": [
    {
     "name": "stdout",
     "output_type": "stream",
     "text": [
      "                         Feature  Importance\n",
      "13         platform_type_pc_only    0.135787\n",
      "39                             9    0.127388\n",
      "9            esrb_rating_Unknown    0.101916\n",
      "6             esrb_rating_Mature    0.089223\n",
      "10    platform_type_console_only    0.061608\n",
      "2                    genre_count    0.058505\n",
      "1                    store_count    0.054151\n",
      "0                 platform_count    0.042415\n",
      "11  platform_type_multi_platform    0.026291\n",
      "35                             5    0.025747\n",
      "40                            10    0.018375\n",
      "41                            11    0.015837\n",
      "30                             0    0.014933\n",
      "20               release_month_7    0.013333\n",
      "48                            18    0.011892\n"
     ]
    },
    {
     "name": "stderr",
     "output_type": "stream",
     "text": [
      "C:\\Users\\domsa\\AppData\\Local\\Packages\\PythonSoftwareFoundation.Python.3.11_qbz5n2kfra8p0\\LocalCache\\local-packages\\Python311\\site-packages\\sklearn\\compose\\_column_transformer.py:1667: FutureWarning: \n",
      "The format of the columns of the 'remainder' transformer in ColumnTransformer.transformers_ will change in version 1.7 to match the format of the other transformers.\n",
      "At the moment the remainder columns are stored as indices (of type int). With the same ColumnTransformer configuration, in the future they will be stored as column names (of type str).\n",
      "To use the new behavior now and suppress this warning, use ColumnTransformer(force_int_remainder_cols=False).\n",
      "\n",
      "  warnings.warn(\n"
     ]
    }
   ],
   "source": [
    "preprocessor = rf_clas.named_steps['columntransformer']\n",
    "\n",
    "num_names = num_feat\n",
    "cat_names = preprocessor.named_transformers_['cat'].get_feature_names_out(cat_feat)\n",
    "pass_through_names = preprocessor.transformers_[2][2] \n",
    "\n",
    "all_features = list(num_names) + list(cat_names) + list(pass_through_names)\n",
    "\n",
    "# Extract feature importances from the RandomForestClassifier\n",
    "importances = rf_clas.named_steps['randomforestclassifier'].feature_importances_\n",
    "\n",
    "# Put into a DataFrame\n",
    "importance_df = pd.DataFrame({\n",
    "    'Feature': all_features,\n",
    "    'Importance': importances\n",
    "}).sort_values(by='Importance', ascending=False)\n",
    "\n",
    "print(importance_df.head(15))\n"
   ]
  },
  {
   "cell_type": "code",
   "execution_count": 18,
   "id": "bdf8bdbf",
   "metadata": {},
   "outputs": [
    {
     "data": {
      "text/plain": [
       "<sklearn.metrics._plot.confusion_matrix.ConfusionMatrixDisplay at 0x2a40d769610>"
      ]
     },
     "execution_count": 18,
     "metadata": {},
     "output_type": "execute_result"
    },
    {
     "data": {
      "image/png": "[encoded data removed]",
      "text/plain": [
       "<Figure size 640x480 with 2 Axes>"
      ]
     },
     "metadata": {},
     "output_type": "display_data"
    }
   ],
   "source": [
    "cm = confusion_matrix(y3_valid, rf_clas.predict(X_valid))\n",
    "ConfusionMatrixDisplay(cm, display_labels= [\"Loved\", \"Not Loved\"]).plot(cmap= 'Blues')"
   ]
  }
 ],
 "metadata": {
  "kernelspec": {
   "display_name": "Python 3",
   "language": "python",
   "name": "python3"
  },
  "language_info": {
   "codemirror_mode": {
    "name": "ipython",
    "version": 3
   },
   "file_extension": ".py",
   "mimetype": "text/x-python",
   "name": "python",
   "nbconvert_exporter": "python",
   "pygments_lexer": "ipython3",
   "version": "3.11.9"
  }
 },
 "nbformat": 4,
 "nbformat_minor": 5
}
