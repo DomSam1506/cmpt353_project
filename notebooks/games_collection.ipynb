{
 "cells": [
  {
   "cell_type": "markdown",
   "id": "d53f6158",
   "metadata": {},
   "source": [
    "#  Game Data Collection (RAWG.io API)\n",
    "\n",
    "**Data source:** Data provided by [RAWG.io](https://rawg.io).  \n",
    "_This project uses the RAWG Video Games Database API but is not endorsed or certified by RAWG._\n",
    "\n",
    "In this notebook, I query the RAWG API to collect basic metadata on thousands of video games, including:\n",
    "- Title, release date, average user rating\n",
    "- Critic rating (Metacritic), ESRB rating\n",
    "- Genre, platforms, stores, tags\n",
    "- Engagement metrics like playtime and review counts\n",
    "\n",
    "The collected data is exported to a `.csv` file for further cleaning and analysis.\n"
   ]
  },
  {
   "cell_type": "markdown",
   "id": "ecf663ea",
   "metadata": {},
   "source": [
    "### Import Libraries and Setup"
   ]
  },
  {
   "cell_type": "code",
   "execution_count": null,
   "id": "e545e3b1",
   "metadata": {},
   "outputs": [],
   "source": [
    "import requests\n",
    "import pandas as pd\n",
    "import time\n",
    "from dotenv import load_dotenv\n",
    "import os\n",
    "import sys\n",
    "\n",
    "sys.path.append(\"..\")\n",
    "\n",
    "load_dotenv()\n",
    "API_KEY = os.getenv(\"API_KEY\")"
   ]
  },
  {
   "cell_type": "markdown",
   "id": "e0a55903",
   "metadata": {},
   "source": [
    "### Fetch Data\n",
    "I iterate through the first 250 pages of the API, each returning 40 games. For each game, I extract relevant metadata for my analysis.\n",
    "\n",
    "- RAWG has rate limits; so I used a `time.sleep(1)` between requests to stay compliant to the limits.\n",
    "- The obatined data is stored as a list of dictionaries and converted to a DataFrame at the end."
   ]
  },
  {
   "cell_type": "code",
   "execution_count": null,
   "id": "e1d150bb",
   "metadata": {},
   "outputs": [],
   "source": [
    "games_data = []\n",
    "page = 1\n",
    "max_pages = 250\n",
    "    \n",
    "while page <= max_pages:\n",
    "    url = f\"https://api.rawg.io/api/games?key={API_KEY}&page_size=40&page={page}\"\n",
    "    response = requests.get(url)\n",
    "    \n",
    "    if response.status_code != 200:\n",
    "        print(\"Error:\", response.status_code)\n",
    "        break\n",
    "    \n",
    "    data = response.json()\n",
    "        \n",
    "    for game in data['results']:\n",
    "        games_data.append({\n",
    "            'id': game['id'],\n",
    "            'name': game['name'],\n",
    "            'released': game['released'],\n",
    "            'avg_user_rating': game['rating'],\n",
    "            'user_ratings_count': game.get('ratings_count'),\n",
    "            'reviews_count': game.get('reviews_count'),\n",
    "            'added': game.get('added'),\n",
    "            'metacritic_rating': game.get('metacritic'),\n",
    "            'avg_playtime': game.get('playtime'),\n",
    "            'genres': [g['name'] for g in game.get('genres', [])],\n",
    "            'platforms': [p['platform']['name'] for p in game.get('platforms', [])],\n",
    "            'stores': [s['store']['name'] for s in game.get('stores', [])],\n",
    "            'tags': [t['name'] for t in game.get('tags', [])],\n",
    "            'esrb_rating': game.get('esrb_rating', {}).get('name') if game.get('esrb_rating') else None,\n",
    "        })\n",
    "    \n",
    "    print(f\"Fetched page {page} with {len(data['results'])} games\")\n",
    "    page += 1\n",
    "    time.sleep(1) \n",
    "    \n",
    "games = pd.DataFrame(games_data)"
   ]
  },
  {
   "cell_type": "markdown",
   "id": "a6cab30b",
   "metadata": {},
   "source": [
    "### Export to CSV"
   ]
  },
  {
   "cell_type": "code",
   "execution_count": null,
   "id": "807d5f18",
   "metadata": {},
   "outputs": [],
   "source": [
    "games.to_csv(\"../data/games_data.csv\", index =  False)\n"
   ]
  }
 ],
 "metadata": {
  "kernelspec": {
   "display_name": "Python 3",
   "language": "python",
   "name": "python3"
  },
  "language_info": {
   "codemirror_mode": {
    "name": "ipython",
    "version": 3
   },
   "file_extension": ".py",
   "mimetype": "text/x-python",
   "name": "python",
   "nbconvert_exporter": "python",
   "pygments_lexer": "ipython3",
   "version": "3.11.9"
  }
 },
 "nbformat": 4,
 "nbformat_minor": 5
}
